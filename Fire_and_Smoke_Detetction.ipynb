{
 "cells": [
  {
   "cell_type": "code",
   "execution_count": 48,
   "id": "50852f07",
   "metadata": {},
   "outputs": [
    {
     "name": "stdout",
     "output_type": "stream",
     "text": [
      "TensorFlow is using the GPU\n",
      "GPU Name: NVIDIA GeForce RTX 4050 Laptop GPU\n"
     ]
    }
   ],
   "source": [
    "# GPU info, check if tensorflow is using the GPU\n",
    "import tensorflow as tf\n",
    "import pynvml\n",
    "tf.compat.v1.logging.set_verbosity(tf.compat.v1.logging.ERROR)\n",
    "\n",
    "# Check if TensorFlow is using the GPU\n",
    "if tf.test.is_gpu_available():\n",
    "    print(\"TensorFlow is using the GPU\")\n",
    "    \n",
    "    # Initialize the pynvml library\n",
    "    pynvml.nvmlInit()\n",
    "    \n",
    "    # Get the number of GPU devices\n",
    "    num_gpus = pynvml.nvmlDeviceGetCount()\n",
    "    \n",
    "    # Iterate over GPU devices\n",
    "    for i in range(num_gpus):\n",
    "        # Get the device identifier\n",
    "        handle = pynvml.nvmlDeviceGetHandleByIndex(i)\n",
    "        # Get the full GPU name\n",
    "        gpu_name = pynvml.nvmlDeviceGetName(handle)\n",
    "        print(\"GPU Name:\", gpu_name)\n",
    "        \n",
    "    # Shutdown the pynvml library\n",
    "    pynvml.nvmlShutdown()\n",
    "else:\n",
    "    print(\"TensorFlow is not using the GPU\")"
   ]
  },
  {
   "cell_type": "code",
   "execution_count": 3,
   "id": "52d5d433-764c-4dd0-975a-77b1338cb3c9",
   "metadata": {},
   "outputs": [
    {
     "name": "stdout",
     "output_type": "stream",
     "text": [
      "[PhysicalDevice(name='/physical_device:GPU:0', device_type='GPU'), PhysicalDevice(name='/physical_device:GPU:1', device_type='GPU')]\n"
     ]
    }
   ],
   "source": [
    "# GPU info\n",
    "import tensorflow as tf\n",
    "print(tf.config.list_physical_devices('GPU'))\n",
    "print(\"Num GPUs Available: \", len(tf.config.experimental.list_physical_devices('GPU')))"
   ]
  },
  {
   "cell_type": "code",
   "execution_count": 4,
   "id": "19a9ea39-d4e4-4133-90aa-6bdd2403dbb4",
   "metadata": {},
   "outputs": [],
   "source": [
    "# set GPU\n",
    "physical_devices = tf.config.list_physical_devices('GPU')\n",
    "\n",
    "if len(physical_devices) > 0:\n",
    "    # This code retrieves the available GPU and enables memory growth for dynamic allocation, potentially improving\n",
    "    # memory usage.\n",
    "    tf.config.experimental.set_memory_growth(physical_devices[0], True)\n",
    "else:\n",
    "    print(\"No GPUs available.\")"
   ]
  },
  {
   "cell_type": "code",
   "execution_count": 1,
   "id": "50d219c6",
   "metadata": {},
   "outputs": [],
   "source": [
    "# Importing required libraries\n",
    "import os\n",
    "import cv2 as cv\n",
    "import numpy as np\n",
    "from glob import glob\n",
    "import tensorflow as tf\n",
    "from tensorflow import keras\n",
    "import matplotlib.pyplot as plt\n",
    "from sklearn.model_selection import train_test_split\n",
    "from tensorflow.keras.optimizers import SGD\n",
    "from tensorflow.python.keras.utils import np_utils\n",
    "from tensorflow.keras.preprocessing.image import ImageDataGenerator\n",
    "from tensorflow.keras.models import Sequential, load_model\n",
    "from tensorflow.keras.layers import BatchNormalization, Dense, SeparableConv2D, MaxPooling2D, Flatten, Dropout, Activation"
   ]
  },
  {
   "cell_type": "code",
   "execution_count": null,
   "id": "3d08c1fb",
   "metadata": {},
   "outputs": [],
   "source": [
    "physical_devices = tf.config.list_physical_devices('GPU')\n",
    "# This code retrieves the available GPU and enables memory growth for dynamic allocation, potentially improving\n",
    "# memory usage.\n",
    "tf.config.experimental.set_memory_growth(physical_devices[0], True)"
   ]
  },
  {
   "cell_type": "code",
   "execution_count": 3,
   "id": "570d47dd",
   "metadata": {},
   "outputs": [],
   "source": [
    "# Hyperparameters\n",
    "INIT_LR = 0.1\n",
    "NUM_EPOCH = 50\n",
    "BATCH_SIZE = 64\n",
    "lr_find = True"
   ]
  },
  {
   "cell_type": "code",
   "execution_count": 4,
   "id": "cc890f68",
   "metadata": {},
   "outputs": [],
   "source": [
    "# Initialize lists to store images and labels\n",
    "images = []\n",
    "labels = []\n",
    "\n",
    "# Define classes\n",
    "classes = ['Not_Fire', 'Fire']"
   ]
  },
  {
   "cell_type": "code",
   "execution_count": 5,
   "id": "83676f5c",
   "metadata": {},
   "outputs": [
    {
     "name": "stdout",
     "output_type": "stream",
     "text": [
      "Currently Processing Path : Image_Dataset/Not_Fire\n",
      "Currently Processing Path : Image_Dataset/Fire\n",
      "created dataset of images and labels.\n"
     ]
    }
   ],
   "source": [
    "# Iterate through each class folder to load images\n",
    "for c in classes:\n",
    "    try:\n",
    "        img_folder = 'Image_Dataset/' + c\n",
    "        print(f'Currently Processing Path : {img_folder}')\n",
    "        jpg_imgs = glob(f'{img_folder}/*.jpg')\n",
    "        for img in jpg_imgs:\n",
    "            img = cv.imread(str(img))\n",
    "            if img is not None:\n",
    "                img = cv.resize(img, (128, 128))\n",
    "                images.append(img)\n",
    "                labels.append(1 if c == 'Fire' else 0)\n",
    "            else:\n",
    "                os.remove(imgPath)\n",
    "                print(f'file deleted: {imgPath}')\n",
    "    except Exception as e:\n",
    "        print(f'Error in creating dataset : {e}')\n",
    "\n",
    "print('created dataset of images and labels.')"
   ]
  },
  {
   "cell_type": "code",
   "execution_count": 7,
   "id": "07fb5b49",
   "metadata": {},
   "outputs": [],
   "source": [
    "# check random image\n",
    "random_img = np.random.randint(0, len(images))\n",
    "cv.imshow(str(labels[random_img]), images[random_img])\n",
    "cv.waitKey(0)\n",
    "cv.destroyAllWindows()"
   ]
  },
  {
   "cell_type": "code",
   "execution_count": 8,
   "id": "1038b718",
   "metadata": {},
   "outputs": [],
   "source": [
    "# Convert images and labels to numpy arrays\n",
    "images = np.array(images, dtype='float32') / 255.\n",
    "labels = np.array(labels)\n",
    "labels = np_utils.to_categorical(labels, num_classes=2)"
   ]
  },
  {
   "cell_type": "code",
   "execution_count": 9,
   "id": "edc1600a",
   "metadata": {},
   "outputs": [
    {
     "name": "stdout",
     "output_type": "stream",
     "text": [
      "[2705.  786.]\n",
      "[1.        3.4414759]\n",
      "d : {0: 1.0, 1: 3.4414759}\n"
     ]
    }
   ],
   "source": [
    "# Calculate class weights\n",
    "d = {}\n",
    "classTotals = labels.sum(axis=0)\n",
    "print(classTotals)\n",
    "classWeight = classTotals.max() / classTotals\n",
    "print(classWeight)\n",
    "d[0] = classWeight[0]\n",
    "d[1] = classWeight[1]\n",
    "print(f'd : {d}')"
   ]
  },
  {
   "cell_type": "code",
   "execution_count": 10,
   "id": "41af6429",
   "metadata": {},
   "outputs": [],
   "source": [
    "# Split dataset into training and testing sets\n",
    "X_train, X_test, y_train, y_test = train_test_split(images, labels, test_size=.25, shuffle=True, random_state=42)"
   ]
  },
  {
   "cell_type": "code",
   "execution_count": 46,
   "id": "487b8229",
   "metadata": {},
   "outputs": [],
   "source": [
    "# Data Augmentation\n",
    "aug = ImageDataGenerator(\n",
    "    rotation_range=30,\n",
    "    zoom_range=0.30,\n",
    "    width_shift_range=0.2,\n",
    "    height_shift_range=0.2,\n",
    "    shear_range=0.15,\n",
    "    horizontal_flip=True,\n",
    "    fill_mode='nearest'\n",
    ")"
   ]
  },
  {
   "cell_type": "code",
   "execution_count": 47,
   "id": "814b6991",
   "metadata": {},
   "outputs": [
    {
     "name": "stdout",
     "output_type": "stream",
     "text": [
      "Physical devices cannot be modified after being initialized\n"
     ]
    }
   ],
   "source": [
    "# In case of multi-GPU devices memory growth should be constant through out all available GPUs. Either set it true for all GPUs or keep it false.\n",
    "gpus = tf.config.list_physical_devices('GPU')\n",
    "if gpus:\n",
    "  try:\n",
    "    # Currently, memory growth needs to be the same across GPUs\n",
    "    for gpu in gpus:\n",
    "      tf.config.experimental.set_memory_growth(gpu, True)\n",
    "    logical_gpus = tf.config.list_logical_devices('GPU')\n",
    "    print(len(gpus), \"Physical GPUs,\", len(logical_gpus), \"Logical GPUs\")\n",
    "  except RuntimeError as e:\n",
    "    # Memory growth must be set before GPUs have been initialized\n",
    "    print(e)"
   ]
  },
  {
   "cell_type": "code",
   "execution_count": 49,
   "id": "1aab2550",
   "metadata": {},
   "outputs": [
    {
     "name": "stdout",
     "output_type": "stream",
     "text": [
      "Model: \"sequential\"\n",
      "_________________________________________________________________\n",
      " Layer (type)                Output Shape              Param #   \n",
      "=================================================================\n",
      " separable_conv2d (Separable  (None, 128, 128, 16)     211       \n",
      " Conv2D)                                                         \n",
      "                                                                 \n",
      " activation (Activation)     (None, 128, 128, 16)      0         \n",
      "                                                                 \n",
      " batch_normalization (BatchN  (None, 128, 128, 16)     64        \n",
      " ormalization)                                                   \n",
      "                                                                 \n",
      " max_pooling2d (MaxPooling2D  (None, 64, 64, 16)       0         \n",
      " )                                                               \n",
      "                                                                 \n",
      " separable_conv2d_1 (Separab  (None, 64, 64, 32)       688       \n",
      " leConv2D)                                                       \n",
      "                                                                 \n",
      " activation_1 (Activation)   (None, 64, 64, 32)        0         \n",
      "                                                                 \n",
      " batch_normalization_1 (Batc  (None, 64, 64, 32)       128       \n",
      " hNormalization)                                                 \n",
      "                                                                 \n",
      " max_pooling2d_1 (MaxPooling  (None, 32, 32, 32)       0         \n",
      " 2D)                                                             \n",
      "                                                                 \n",
      " separable_conv2d_2 (Separab  (None, 32, 32, 64)       2400      \n",
      " leConv2D)                                                       \n",
      "                                                                 \n",
      " activation_2 (Activation)   (None, 32, 32, 64)        0         \n",
      "                                                                 \n",
      " batch_normalization_2 (Batc  (None, 32, 32, 64)       256       \n",
      " hNormalization)                                                 \n",
      "                                                                 \n",
      " separable_conv2d_3 (Separab  (None, 32, 32, 64)       4736      \n",
      " leConv2D)                                                       \n",
      "                                                                 \n",
      " activation_3 (Activation)   (None, 32, 32, 64)        0         \n",
      "                                                                 \n",
      " batch_normalization_3 (Batc  (None, 32, 32, 64)       256       \n",
      " hNormalization)                                                 \n",
      "                                                                 \n",
      " max_pooling2d_2 (MaxPooling  (None, 16, 16, 64)       0         \n",
      " 2D)                                                             \n",
      "                                                                 \n",
      " flatten (Flatten)           (None, 16384)             0         \n",
      "                                                                 \n",
      " dense (Dense)               (None, 128)               2097280   \n",
      "                                                                 \n",
      " activation_4 (Activation)   (None, 128)               0         \n",
      "                                                                 \n",
      " batch_normalization_4 (Batc  (None, 128)              512       \n",
      " hNormalization)                                                 \n",
      "                                                                 \n",
      " dropout (Dropout)           (None, 128)               0         \n",
      "                                                                 \n",
      " dense_1 (Dense)             (None, 128)               16512     \n",
      "                                                                 \n",
      " activation_5 (Activation)   (None, 128)               0         \n",
      "                                                                 \n",
      " batch_normalization_5 (Batc  (None, 128)              512       \n",
      " hNormalization)                                                 \n",
      "                                                                 \n",
      " dropout_1 (Dropout)         (None, 128)               0         \n",
      "                                                                 \n",
      " dense_2 (Dense)             (None, 2)                 258       \n",
      "                                                                 \n",
      " activation_6 (Activation)   (None, 2)                 0         \n",
      "                                                                 \n",
      "=================================================================\n",
      "Total params: 2,123,813\n",
      "Trainable params: 2,122,949\n",
      "Non-trainable params: 864\n",
      "_________________________________________________________________\n",
      "None\n"
     ]
    }
   ],
   "source": [
    "# Initialize model\n",
    "model = Sequential()\n",
    "\n",
    "# Add layers to the model\n",
    "model.add(SeparableConv2D(16, (7,7), padding='same', input_shape=(128, 128,3)))\n",
    "model.add(Activation('relu'))\n",
    "model.add(BatchNormalization())\n",
    "model.add(MaxPooling2D(pool_size=(2,2)))\n",
    "\n",
    "model.add(SeparableConv2D(32, (3,3), padding='same'))\n",
    "model.add(Activation('relu'))\n",
    "model.add(BatchNormalization())\n",
    "model.add(MaxPooling2D(pool_size=(2,2)))\n",
    "\n",
    "model.add(SeparableConv2D(64, (3,3), padding='same'))\n",
    "model.add(Activation('relu'))\n",
    "model.add(BatchNormalization())\n",
    "model.add(SeparableConv2D(64, (3,3), padding='same'))\n",
    "model.add(Activation('relu'))\n",
    "model.add(BatchNormalization())\n",
    "model.add(MaxPooling2D(pool_size=(2,2)))\n",
    "\n",
    "model.add(Flatten())\n",
    "model.add(Dense(128))\n",
    "model.add(Activation('relu'))\n",
    "model.add(BatchNormalization())\n",
    "model.add(Dropout(0.5))\n",
    "\n",
    "model.add(Dense(128))\n",
    "model.add(Activation('relu'))\n",
    "model.add(BatchNormalization())\n",
    "model.add(Dropout(0.5))\n",
    "\n",
    "model.add(Dense(len(classes)))\n",
    "model.add(Activation('softmax'))\n",
    "\n",
    "# Define optimizer\n",
    "opt = SGD(learning_rate=INIT_LR, momentum=0.8, decay=INIT_LR / NUM_EPOCH)\n",
    "\n",
    "# Compile the model\n",
    "model.compile(loss='binary_crossentropy',\n",
    "              optimizer=opt,\n",
    "              metrics=['accuracy'])\n",
    "\n",
    "print(model.summary())"
   ]
  },
  {
   "cell_type": "code",
   "execution_count": 50,
   "id": "bab51920",
   "metadata": {},
   "outputs": [
    {
     "name": "stdout",
     "output_type": "stream",
     "text": [
      "[INFO] training network...\n",
      "Epoch 1/50\n",
      "40/40 [==============================] - 12s 232ms/step - loss: 0.9173 - accuracy: 0.7388 - val_loss: 8.6465 - val_accuracy: 0.3883\n",
      "Epoch 2/50\n",
      "40/40 [==============================] - 8s 203ms/step - loss: 0.6731 - accuracy: 0.8183 - val_loss: 1.1396 - val_accuracy: 0.8580\n",
      "Epoch 3/50\n",
      "40/40 [==============================] - 8s 203ms/step - loss: 0.6603 - accuracy: 0.8273 - val_loss: 0.8155 - val_accuracy: 0.7835\n",
      "Epoch 4/50\n",
      "40/40 [==============================] - 8s 187ms/step - loss: 0.5924 - accuracy: 0.8285 - val_loss: 0.6008 - val_accuracy: 0.8225\n",
      "Epoch 5/50\n",
      "40/40 [==============================] - 8s 207ms/step - loss: 0.5909 - accuracy: 0.8383 - val_loss: 0.6138 - val_accuracy: 0.7365\n",
      "Epoch 6/50\n",
      "40/40 [==============================] - 8s 195ms/step - loss: 0.5609 - accuracy: 0.8430 - val_loss: 0.4330 - val_accuracy: 0.8534\n",
      "Epoch 7/50\n",
      "40/40 [==============================] - 15s 389ms/step - loss: 0.5232 - accuracy: 0.8528 - val_loss: 0.4259 - val_accuracy: 0.8683\n",
      "Epoch 8/50\n",
      "40/40 [==============================] - 16s 407ms/step - loss: 0.5056 - accuracy: 0.8688 - val_loss: 0.2784 - val_accuracy: 0.8786\n",
      "Epoch 9/50\n",
      "40/40 [==============================] - 9s 218ms/step - loss: 0.4803 - accuracy: 0.8669 - val_loss: 0.3233 - val_accuracy: 0.8729\n",
      "Epoch 10/50\n",
      "40/40 [==============================] - 8s 197ms/step - loss: 0.4818 - accuracy: 0.8712 - val_loss: 0.3029 - val_accuracy: 0.8797\n",
      "Epoch 11/50\n",
      "40/40 [==============================] - 8s 210ms/step - loss: 0.4871 - accuracy: 0.8724 - val_loss: 0.2695 - val_accuracy: 0.8866\n",
      "Epoch 12/50\n",
      "40/40 [==============================] - 8s 194ms/step - loss: 0.4419 - accuracy: 0.8743 - val_loss: 0.2642 - val_accuracy: 0.8832\n",
      "Epoch 13/50\n",
      "40/40 [==============================] - 8s 211ms/step - loss: 0.4186 - accuracy: 0.8833 - val_loss: 0.5621 - val_accuracy: 0.8683\n",
      "Epoch 14/50\n",
      "40/40 [==============================] - 9s 216ms/step - loss: 0.4707 - accuracy: 0.8653 - val_loss: 0.2575 - val_accuracy: 0.8912\n",
      "Epoch 15/50\n",
      "40/40 [==============================] - 9s 220ms/step - loss: 0.4438 - accuracy: 0.8802 - val_loss: 0.3190 - val_accuracy: 0.8591\n",
      "Epoch 16/50\n",
      "40/40 [==============================] - 9s 213ms/step - loss: 0.4190 - accuracy: 0.8829 - val_loss: 0.2836 - val_accuracy: 0.8855\n",
      "Epoch 17/50\n",
      "40/40 [==============================] - 9s 216ms/step - loss: 0.4317 - accuracy: 0.8771 - val_loss: 0.2595 - val_accuracy: 0.9003\n",
      "Epoch 18/50\n",
      "40/40 [==============================] - 8s 193ms/step - loss: 0.4524 - accuracy: 0.8853 - val_loss: 0.3018 - val_accuracy: 0.8958\n",
      "Epoch 19/50\n",
      "40/40 [==============================] - 8s 204ms/step - loss: 0.4247 - accuracy: 0.8880 - val_loss: 0.2715 - val_accuracy: 0.8992\n",
      "Epoch 20/50\n",
      "40/40 [==============================] - 8s 193ms/step - loss: 0.4124 - accuracy: 0.8978 - val_loss: 0.2796 - val_accuracy: 0.8912\n",
      "Epoch 21/50\n",
      "40/40 [==============================] - 9s 224ms/step - loss: 0.4092 - accuracy: 0.8849 - val_loss: 0.3796 - val_accuracy: 0.8671\n",
      "Epoch 22/50\n",
      "40/40 [==============================] - 10s 237ms/step - loss: 0.4224 - accuracy: 0.8876 - val_loss: 0.2581 - val_accuracy: 0.9003\n",
      "Epoch 23/50\n",
      "40/40 [==============================] - 9s 213ms/step - loss: 0.4281 - accuracy: 0.8896 - val_loss: 0.2650 - val_accuracy: 0.8981\n",
      "Epoch 24/50\n",
      "40/40 [==============================] - 9s 221ms/step - loss: 0.3878 - accuracy: 0.8888 - val_loss: 0.3922 - val_accuracy: 0.8580\n",
      "Epoch 25/50\n",
      "40/40 [==============================] - 8s 206ms/step - loss: 0.3954 - accuracy: 0.9037 - val_loss: 0.2511 - val_accuracy: 0.8981\n",
      "Epoch 26/50\n",
      "40/40 [==============================] - 8s 195ms/step - loss: 0.4009 - accuracy: 0.8982 - val_loss: 0.2892 - val_accuracy: 0.8889\n",
      "Epoch 27/50\n",
      "40/40 [==============================] - 8s 210ms/step - loss: 0.4143 - accuracy: 0.8939 - val_loss: 0.2344 - val_accuracy: 0.9084\n",
      "Epoch 28/50\n",
      "40/40 [==============================] - 8s 212ms/step - loss: 0.4068 - accuracy: 0.8912 - val_loss: 0.2386 - val_accuracy: 0.9061\n",
      "Epoch 29/50\n",
      "40/40 [==============================] - 9s 221ms/step - loss: 0.3786 - accuracy: 0.9072 - val_loss: 0.2509 - val_accuracy: 0.9026\n",
      "Epoch 30/50\n",
      "40/40 [==============================] - 9s 230ms/step - loss: 0.3916 - accuracy: 0.8966 - val_loss: 0.2346 - val_accuracy: 0.9118\n",
      "Epoch 31/50\n",
      "40/40 [==============================] - 9s 221ms/step - loss: 0.3920 - accuracy: 0.9041 - val_loss: 0.3477 - val_accuracy: 0.8465\n",
      "Epoch 32/50\n",
      "40/40 [==============================] - 9s 219ms/step - loss: 0.4022 - accuracy: 0.9002 - val_loss: 0.2862 - val_accuracy: 0.8900\n",
      "Epoch 33/50\n",
      "40/40 [==============================] - 8s 191ms/step - loss: 0.3610 - accuracy: 0.9099 - val_loss: 0.2404 - val_accuracy: 0.8946\n",
      "Epoch 34/50\n",
      "40/40 [==============================] - 9s 214ms/step - loss: 0.3725 - accuracy: 0.8978 - val_loss: 0.2030 - val_accuracy: 0.9187\n",
      "Epoch 35/50\n",
      "40/40 [==============================] - 8s 199ms/step - loss: 0.3856 - accuracy: 0.9037 - val_loss: 0.2117 - val_accuracy: 0.9107\n",
      "Epoch 36/50\n",
      "40/40 [==============================] - 9s 229ms/step - loss: 0.3972 - accuracy: 0.9045 - val_loss: 0.3753 - val_accuracy: 0.8442\n",
      "Epoch 37/50\n",
      "40/40 [==============================] - 9s 220ms/step - loss: 0.3999 - accuracy: 0.9049 - val_loss: 0.1949 - val_accuracy: 0.9164\n",
      "Epoch 38/50\n",
      "40/40 [==============================] - 9s 223ms/step - loss: 0.3468 - accuracy: 0.9143 - val_loss: 0.2504 - val_accuracy: 0.8946\n",
      "Epoch 39/50\n",
      "40/40 [==============================] - 9s 224ms/step - loss: 0.3614 - accuracy: 0.9107 - val_loss: 0.2263 - val_accuracy: 0.9118\n",
      "Epoch 40/50\n",
      "40/40 [==============================] - 8s 209ms/step - loss: 0.3469 - accuracy: 0.9127 - val_loss: 0.2352 - val_accuracy: 0.9107\n",
      "Epoch 41/50\n",
      "40/40 [==============================] - 7s 184ms/step - loss: 0.3518 - accuracy: 0.9099 - val_loss: 0.2914 - val_accuracy: 0.8832\n",
      "Epoch 42/50\n",
      "40/40 [==============================] - 8s 210ms/step - loss: 0.3655 - accuracy: 0.9045 - val_loss: 0.3742 - val_accuracy: 0.8557\n",
      "Epoch 43/50\n",
      "40/40 [==============================] - 8s 200ms/step - loss: 0.3435 - accuracy: 0.9115 - val_loss: 0.2085 - val_accuracy: 0.9175\n",
      "Epoch 44/50\n",
      "40/40 [==============================] - 9s 219ms/step - loss: 0.3538 - accuracy: 0.9139 - val_loss: 0.4315 - val_accuracy: 0.8671\n",
      "Epoch 45/50\n",
      "40/40 [==============================] - 9s 219ms/step - loss: 0.3459 - accuracy: 0.9186 - val_loss: 0.2113 - val_accuracy: 0.9210\n",
      "Epoch 46/50\n",
      "40/40 [==============================] - 10s 237ms/step - loss: 0.3341 - accuracy: 0.9193 - val_loss: 0.2479 - val_accuracy: 0.9015\n",
      "Epoch 47/50\n",
      "40/40 [==============================] - 9s 216ms/step - loss: 0.3185 - accuracy: 0.9221 - val_loss: 0.2444 - val_accuracy: 0.9072\n",
      "Epoch 48/50\n",
      "40/40 [==============================] - 8s 206ms/step - loss: 0.3135 - accuracy: 0.9225 - val_loss: 0.2809 - val_accuracy: 0.8981\n",
      "Epoch 49/50\n",
      "40/40 [==============================] - 9s 223ms/step - loss: 0.3423 - accuracy: 0.9068 - val_loss: 0.2288 - val_accuracy: 0.9038\n",
      "Epoch 50/50\n",
      "40/40 [==============================] - 8s 207ms/step - loss: 0.3224 - accuracy: 0.9123 - val_loss: 0.2050 - val_accuracy: 0.9221\n",
      "[INFO] serializing network to 'output/model'...\n"
     ]
    }
   ],
   "source": [
    "# Train the model\n",
    "print('[INFO] training network...')\n",
    "\n",
    "H = model.fit(\n",
    "    aug.flow(X_train, y_train, batch_size=BATCH_SIZE),\n",
    "             validation_data=(X_test, y_test),\n",
    "             steps_per_epoch=X_train.shape[0] // BATCH_SIZE,\n",
    "             epochs=NUM_EPOCH,\n",
    "             class_weight=d,\n",
    "             verbose=1\n",
    "             )\n",
    "print(\"[INFO] serializing network to '{}'...\".format('output/model'))\n"
   ]
  },
  {
   "cell_type": "code",
   "execution_count": 53,
   "id": "ea190c67",
   "metadata": {},
   "outputs": [],
   "source": [
    "# Save the model\n",
    "model.save('output/fire_detection1.h5')"
   ]
  },
  {
   "cell_type": "code",
   "execution_count": 54,
   "id": "52687e04",
   "metadata": {},
   "outputs": [
    {
     "data": {
      "image/png": "[encoded data removed]",
      "text/plain": [
       "<Figure size 1000x500 with 2 Axes>"
      ]
     },
     "metadata": {},
     "output_type": "display_data"
    }
   ],
   "source": [
    "# Plot training history\n",
    "N = np.arange(0, NUM_EPOCH)\n",
    "\n",
    "plt.figure(figsize=(10, 5))\n",
    "\n",
    "plt.subplot(121)\n",
    "plt.title('Losses')\n",
    "plt.plot(N, H.history['loss'], label='train_loss')\n",
    "plt.plot(N, H.history['val_loss'], label='val_loss')\n",
    "\n",
    "plt.subplot(122)\n",
    "plt.title('Accuracies')\n",
    "plt.plot(N, H.history['accuracy'], label='train_acc')\n",
    "plt.plot(N, H.history['val_accuracy'], label='val_acc')\n",
    "\n",
    "\n",
    "plt.legend()\n",
    "plt.savefig(\"output/training_plot.png\")"
   ]
  },
  {
   "cell_type": "code",
   "execution_count": 1,
   "id": "b3563f91",
   "metadata": {},
   "outputs": [
    {
     "name": "stdout",
     "output_type": "stream",
     "text": [
      "[INFO loading model...]\n",
      "ERROR : name 'load_model' is not defined\n"
     ]
    }
   ],
   "source": [
    "# Load the saved model\n",
    "try:\n",
    "    print('[INFO loading model...]')\n",
    "    model = load_model('output/fire_detection1.h5')\n",
    "    print('[INFO model loaded successfully...]')\n",
    "except Exception as e:\n",
    "    print(f'ERROR : {e}')"
   ]
  },
  {
   "cell_type": "code",
   "execution_count": null,
   "id": "18ca02f9",
   "metadata": {},
   "outputs": [],
   "source": [
    "# Perform inference on test images and plot predictions\n",
    "plt.figure(figsize=(15, 10))\n",
    "for i in range(1, 11):  # Plot 10 images\n",
    "    random_index = np.random.randint(0, len(X_test))\n",
    "    org_img = X_test[random_index] * 255\n",
    "\n",
    "    img = org_img.copy()\n",
    "    img = cv.resize(img, (128, 128))\n",
    "    img = img.astype('float32') / 256\n",
    "\n",
    "    pred = model.predict(np.expand_dims(img, axis=0))[0]\n",
    "    result = classes[np.argmax(pred)]\n",
    "\n",
    "    org_img = cv.resize(org_img, (300, 300))\n",
    "    cv.rectangle(org_img, (0, 20), (200, 55), (255, 255, 255), -1)\n",
    "    cv.putText(org_img, result, (35,50), cv.FONT_HERSHEY_SIMPLEX, 1.25, (0, 0, 0), 2)\n",
    "    cv.imwrite('output/testing/{}.png'.format(i),org_img)\n",
    "    \n",
    "    plt.subplot(2, 5, i)\n",
    "    plt.imshow(cv.cvtColor(org_img, cv.COLOR_BGR2RGB))\n",
    "    plt.title(f'Prediction: {result}')\n",
    "    plt.axis('off')\n",
    "\n",
    "plt.tight_layout()\n",
    "plt.show()\n"
   ]
  },
  {
   "cell_type": "code",
   "execution_count": null,
   "id": "eb5295c1",
   "metadata": {},
   "outputs": [],
   "source": []
  }
 ],
 "metadata": {
  "kernelspec": {
   "display_name": "py310_conda",
   "language": "python",
   "name": "python3"
  },
  "language_info": {
   "codemirror_mode": {
    "name": "ipython",
    "version": 3
   },
   "file_extension": ".py",
   "mimetype": "text/x-python",
   "name": "python",
   "nbconvert_exporter": "python",
   "pygments_lexer": "ipython3",
   "version": "3.10.14"
  }
 },
 "nbformat": 4,
 "nbformat_minor": 5
}
